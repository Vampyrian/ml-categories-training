{
 "cells": [
  {
   "metadata": {},
   "cell_type": "markdown",
   "source": "# Settings",
   "id": "d7c96e58d7bbed3b"
  },
  {
   "metadata": {
    "ExecuteTime": {
     "end_time": "2025-03-03T19:22:14.158299Z",
     "start_time": "2025-03-03T19:22:14.154088Z"
    }
   },
   "cell_type": "code",
   "source": [
    "HUGGING_FACE_DATASET_NAME = 'Vampyrian/buitine_technika'\n",
    "MIN_COUNT = 5\n",
    "LIMIT_COUNT = 500\n",
    "MAX_IMAGE_WIDTH = 300"
   ],
   "id": "198b501f6cffa4e1",
   "outputs": [],
   "execution_count": 1
  },
  {
   "metadata": {},
   "cell_type": "markdown",
   "source": "# Update parquet from DB",
   "id": "5fb94a0cd0d5539d"
  },
  {
   "metadata": {
    "ExecuteTime": {
     "end_time": "2025-03-03T19:22:16.941138Z",
     "start_time": "2025-03-03T19:22:16.678270Z"
    }
   },
   "cell_type": "code",
   "source": [
    "import mysql.connector\n",
    "import dotenv\n",
    "import os\n",
    "import pandas as pd"
   ],
   "id": "25292b1af6818f73",
   "outputs": [],
   "execution_count": 2
  },
  {
   "metadata": {
    "ExecuteTime": {
     "end_time": "2025-03-03T19:22:18.856373Z",
     "start_time": "2025-03-03T19:22:18.850677Z"
    }
   },
   "cell_type": "code",
   "source": "dotenv.load_dotenv(dotenv_path=\"../.env\", override=True)",
   "id": "5060e6944f00fbdf",
   "outputs": [
    {
     "data": {
      "text/plain": [
       "True"
      ]
     },
     "execution_count": 3,
     "metadata": {},
     "output_type": "execute_result"
    }
   ],
   "execution_count": 3
  },
  {
   "metadata": {
    "ExecuteTime": {
     "end_time": "2025-03-03T19:22:21.236677Z",
     "start_time": "2025-03-03T19:22:20.978601Z"
    }
   },
   "cell_type": "code",
   "source": [
    "conn = None\n",
    "try:\n",
    "    conn = mysql.connector.connect(\n",
    "        host=os.getenv(\"MYSQL_HOST\"),\n",
    "        user=os.getenv(\"MYSQL_USER\"),\n",
    "        password=os.getenv(\"MYSQL_PASSWORD\"),\n",
    "        port=os.getenv(\"MYSQL_PORT\"),\n",
    "        database=os.getenv(\"MYSQL_DATABASE\")\n",
    "    )\n",
    "    print(\"Database connection successful!\")\n",
    "except mysql.connector.Error as e:\n",
    "    print(e)"
   ],
   "id": "64bcedca4ac6c933",
   "outputs": [
    {
     "name": "stdout",
     "output_type": "stream",
     "text": [
      "Database connection successful!\n"
     ]
    }
   ],
   "execution_count": 4
  },
  {
   "metadata": {
    "ExecuteTime": {
     "end_time": "2025-03-03T19:25:30.949234Z",
     "start_time": "2025-03-03T19:22:59.842019Z"
    }
   },
   "cell_type": "code",
   "source": [
    "sql = \"\"\"\n",
    "SELECT category_training_data.image_path, categories.id AS category_id, categories.name AS category_name\n",
    "FROM category_training_data\n",
    "JOIN listings ON category_training_data.listing_id = listings.id\n",
    "JOIN categories ON category_training_data.category_id = categories.id\n",
    "WHERE category_training_data.is_confirmed_category = 1 and category_training_data.image_path is not null;\n",
    "\"\"\"\n",
    "\n",
    "# sql = \"\"\"\n",
    "# SELECT category_training_data.image_path, categories.id AS category_id, categories.name AS category_name\n",
    "# FROM category_training_data\n",
    "# JOIN listings ON category_training_data.listing_id = listings.id\n",
    "# JOIN categories ON category_training_data.category_id = categories.id\n",
    "# WHERE category_training_data.is_confirmed_category = 1 and category_training_data.image_path is not null\n",
    "# AND categories.id between 1240 and 1329;\n",
    "# \"\"\"\n",
    "\n",
    "data = pd.read_sql(sql, conn)"
   ],
   "id": "338acc953260c732",
   "outputs": [
    {
     "name": "stderr",
     "output_type": "stream",
     "text": [
      "/var/folders/dm/0bzvhx614119pjld6qkrbr6r0000gn/T/ipykernel_2472/3189464312.py:18: UserWarning: pandas only supports SQLAlchemy connectable (engine/connection) or database string URI or sqlite3 DBAPI2 connection. Other DBAPI2 objects are not tested. Please consider using SQLAlchemy.\n",
      "  data = pd.read_sql(sql, conn)\n"
     ]
    }
   ],
   "execution_count": 5
  },
  {
   "metadata": {
    "ExecuteTime": {
     "end_time": "2025-03-03T19:25:36.452634Z",
     "start_time": "2025-03-03T19:25:36.450092Z"
    }
   },
   "cell_type": "code",
   "source": [
    "image_folder = \"../image\"\n",
    "if not os.path.exists(image_folder):\n",
    "    os.makedirs(image_folder)\n",
    "\n",
    "path = os.path.join(image_folder, \"images_url.parquet\")"
   ],
   "id": "5781e5b7aab9243e",
   "outputs": [],
   "execution_count": 6
  },
  {
   "metadata": {
    "ExecuteTime": {
     "end_time": "2025-03-03T19:25:38.108338Z",
     "start_time": "2025-03-03T19:25:38.031371Z"
    }
   },
   "cell_type": "code",
   "source": "data.to_parquet(path, index=False)",
   "id": "3058dde4fb080a22",
   "outputs": [],
   "execution_count": 7
  },
  {
   "metadata": {},
   "cell_type": "markdown",
   "source": "# Preprocess data",
   "id": "1f89916a8acabf2"
  },
  {
   "metadata": {
    "ExecuteTime": {
     "end_time": "2025-03-03T19:25:41.966250Z",
     "start_time": "2025-03-03T19:25:41.907232Z"
    }
   },
   "cell_type": "code",
   "source": "data['category'] = data['category_id'].astype(str) + '_' + data['category_name']",
   "id": "4ff7e256e3a522d1",
   "outputs": [],
   "execution_count": 8
  },
  {
   "metadata": {
    "ExecuteTime": {
     "end_time": "2025-03-03T19:25:43.858030Z",
     "start_time": "2025-03-03T19:25:43.840430Z"
    }
   },
   "cell_type": "code",
   "source": "data.drop(columns=['category_id', 'category_name'], inplace=True)",
   "id": "834575db82f9ecb1",
   "outputs": [],
   "execution_count": 9
  },
  {
   "metadata": {},
   "cell_type": "markdown",
   "source": "# Filter dataframe if category have less than particular count of images",
   "id": "66ec0b6aefbc1f49"
  },
  {
   "metadata": {
    "ExecuteTime": {
     "end_time": "2025-03-03T19:25:48.036153Z",
     "start_time": "2025-03-03T19:25:48.030512Z"
    }
   },
   "cell_type": "code",
   "source": "data",
   "id": "3689b3ba6a245b8d",
   "outputs": [
    {
     "data": {
      "text/plain": [
       "                                               image_path  \\\n",
       "0       training_data/f9188f66-3701-4ae7-a69e-25050f9c...   \n",
       "1       training_data/b3187f7a-ef16-4c45-9738-6d6345f8...   \n",
       "2       training_data/388503a8-5452-47ce-80f8-50bc311b...   \n",
       "3       training_data/0526ea1f-c62d-4c81-a106-d44dd4df...   \n",
       "4       training_data/56aa6e74-8db5-46ff-af99-8c8c67e6...   \n",
       "...                                                   ...   \n",
       "324694  training_data/adbdc39e-7a1b-494a-9669-ef405ac3...   \n",
       "324695  training_data/fc2d4c5b-31d2-4452-b564-472e40bd...   \n",
       "324696  training_data/ef574785-1d1b-4584-9156-f94ea8d9...   \n",
       "324697  training_data/a270c431-44dc-48d5-a1b7-e40fff2d...   \n",
       "324698  training_data/ee8a759f-8868-40b9-baca-5eac015b...   \n",
       "\n",
       "                         category  \n",
       "0           3_Laisvų rankų įranga  \n",
       "1           3_Laisvų rankų įranga  \n",
       "2           3_Laisvų rankų įranga  \n",
       "3           3_Laisvų rankų įranga  \n",
       "4           3_Laisvų rankų įranga  \n",
       "...                           ...  \n",
       "324694         12_Ekrano plėvelės  \n",
       "324695        4_Dėklai telefonams  \n",
       "324696        4_Dėklai telefonams  \n",
       "324697        4_Dėklai telefonams  \n",
       "324698  18_Nešiojami kompiuteriai  \n",
       "\n",
       "[324699 rows x 2 columns]"
      ],
      "text/html": [
       "<div>\n",
       "<style scoped>\n",
       "    .dataframe tbody tr th:only-of-type {\n",
       "        vertical-align: middle;\n",
       "    }\n",
       "\n",
       "    .dataframe tbody tr th {\n",
       "        vertical-align: top;\n",
       "    }\n",
       "\n",
       "    .dataframe thead th {\n",
       "        text-align: right;\n",
       "    }\n",
       "</style>\n",
       "<table border=\"1\" class=\"dataframe\">\n",
       "  <thead>\n",
       "    <tr style=\"text-align: right;\">\n",
       "      <th></th>\n",
       "      <th>image_path</th>\n",
       "      <th>category</th>\n",
       "    </tr>\n",
       "  </thead>\n",
       "  <tbody>\n",
       "    <tr>\n",
       "      <th>0</th>\n",
       "      <td>training_data/f9188f66-3701-4ae7-a69e-25050f9c...</td>\n",
       "      <td>3_Laisvų rankų įranga</td>\n",
       "    </tr>\n",
       "    <tr>\n",
       "      <th>1</th>\n",
       "      <td>training_data/b3187f7a-ef16-4c45-9738-6d6345f8...</td>\n",
       "      <td>3_Laisvų rankų įranga</td>\n",
       "    </tr>\n",
       "    <tr>\n",
       "      <th>2</th>\n",
       "      <td>training_data/388503a8-5452-47ce-80f8-50bc311b...</td>\n",
       "      <td>3_Laisvų rankų įranga</td>\n",
       "    </tr>\n",
       "    <tr>\n",
       "      <th>3</th>\n",
       "      <td>training_data/0526ea1f-c62d-4c81-a106-d44dd4df...</td>\n",
       "      <td>3_Laisvų rankų įranga</td>\n",
       "    </tr>\n",
       "    <tr>\n",
       "      <th>4</th>\n",
       "      <td>training_data/56aa6e74-8db5-46ff-af99-8c8c67e6...</td>\n",
       "      <td>3_Laisvų rankų įranga</td>\n",
       "    </tr>\n",
       "    <tr>\n",
       "      <th>...</th>\n",
       "      <td>...</td>\n",
       "      <td>...</td>\n",
       "    </tr>\n",
       "    <tr>\n",
       "      <th>324694</th>\n",
       "      <td>training_data/adbdc39e-7a1b-494a-9669-ef405ac3...</td>\n",
       "      <td>12_Ekrano plėvelės</td>\n",
       "    </tr>\n",
       "    <tr>\n",
       "      <th>324695</th>\n",
       "      <td>training_data/fc2d4c5b-31d2-4452-b564-472e40bd...</td>\n",
       "      <td>4_Dėklai telefonams</td>\n",
       "    </tr>\n",
       "    <tr>\n",
       "      <th>324696</th>\n",
       "      <td>training_data/ef574785-1d1b-4584-9156-f94ea8d9...</td>\n",
       "      <td>4_Dėklai telefonams</td>\n",
       "    </tr>\n",
       "    <tr>\n",
       "      <th>324697</th>\n",
       "      <td>training_data/a270c431-44dc-48d5-a1b7-e40fff2d...</td>\n",
       "      <td>4_Dėklai telefonams</td>\n",
       "    </tr>\n",
       "    <tr>\n",
       "      <th>324698</th>\n",
       "      <td>training_data/ee8a759f-8868-40b9-baca-5eac015b...</td>\n",
       "      <td>18_Nešiojami kompiuteriai</td>\n",
       "    </tr>\n",
       "  </tbody>\n",
       "</table>\n",
       "<p>324699 rows × 2 columns</p>\n",
       "</div>"
      ]
     },
     "execution_count": 10,
     "metadata": {},
     "output_type": "execute_result"
    }
   ],
   "execution_count": 10
  },
  {
   "metadata": {
    "ExecuteTime": {
     "end_time": "2025-03-03T19:26:04.651389Z",
     "start_time": "2025-03-03T19:26:04.616438Z"
    }
   },
   "cell_type": "code",
   "source": [
    "# Get value counts for the desired column\n",
    "value_counts = data['category'].value_counts()\n",
    "\n",
    "# Find indices (categories) where the count is less than MIN_COUNT\n",
    "categories_to_keep = value_counts[value_counts > MIN_COUNT].index\n",
    "\n",
    "# Filter the DataFrame to keep only rows with those categories\n",
    "filtered_data = data[data['category'].isin(categories_to_keep)]"
   ],
   "id": "2b3730cc3a40b8c3",
   "outputs": [],
   "execution_count": 11
  },
  {
   "metadata": {
    "ExecuteTime": {
     "end_time": "2025-03-03T19:26:06.695583Z",
     "start_time": "2025-03-03T19:26:06.690485Z"
    }
   },
   "cell_type": "code",
   "source": "filtered_data",
   "id": "d4c6cbdc67e26adf",
   "outputs": [
    {
     "data": {
      "text/plain": [
       "                                               image_path  \\\n",
       "0       training_data/f9188f66-3701-4ae7-a69e-25050f9c...   \n",
       "1       training_data/b3187f7a-ef16-4c45-9738-6d6345f8...   \n",
       "2       training_data/388503a8-5452-47ce-80f8-50bc311b...   \n",
       "3       training_data/0526ea1f-c62d-4c81-a106-d44dd4df...   \n",
       "4       training_data/56aa6e74-8db5-46ff-af99-8c8c67e6...   \n",
       "...                                                   ...   \n",
       "324694  training_data/adbdc39e-7a1b-494a-9669-ef405ac3...   \n",
       "324695  training_data/fc2d4c5b-31d2-4452-b564-472e40bd...   \n",
       "324696  training_data/ef574785-1d1b-4584-9156-f94ea8d9...   \n",
       "324697  training_data/a270c431-44dc-48d5-a1b7-e40fff2d...   \n",
       "324698  training_data/ee8a759f-8868-40b9-baca-5eac015b...   \n",
       "\n",
       "                         category  \n",
       "0           3_Laisvų rankų įranga  \n",
       "1           3_Laisvų rankų įranga  \n",
       "2           3_Laisvų rankų įranga  \n",
       "3           3_Laisvų rankų įranga  \n",
       "4           3_Laisvų rankų įranga  \n",
       "...                           ...  \n",
       "324694         12_Ekrano plėvelės  \n",
       "324695        4_Dėklai telefonams  \n",
       "324696        4_Dėklai telefonams  \n",
       "324697        4_Dėklai telefonams  \n",
       "324698  18_Nešiojami kompiuteriai  \n",
       "\n",
       "[323953 rows x 2 columns]"
      ],
      "text/html": [
       "<div>\n",
       "<style scoped>\n",
       "    .dataframe tbody tr th:only-of-type {\n",
       "        vertical-align: middle;\n",
       "    }\n",
       "\n",
       "    .dataframe tbody tr th {\n",
       "        vertical-align: top;\n",
       "    }\n",
       "\n",
       "    .dataframe thead th {\n",
       "        text-align: right;\n",
       "    }\n",
       "</style>\n",
       "<table border=\"1\" class=\"dataframe\">\n",
       "  <thead>\n",
       "    <tr style=\"text-align: right;\">\n",
       "      <th></th>\n",
       "      <th>image_path</th>\n",
       "      <th>category</th>\n",
       "    </tr>\n",
       "  </thead>\n",
       "  <tbody>\n",
       "    <tr>\n",
       "      <th>0</th>\n",
       "      <td>training_data/f9188f66-3701-4ae7-a69e-25050f9c...</td>\n",
       "      <td>3_Laisvų rankų įranga</td>\n",
       "    </tr>\n",
       "    <tr>\n",
       "      <th>1</th>\n",
       "      <td>training_data/b3187f7a-ef16-4c45-9738-6d6345f8...</td>\n",
       "      <td>3_Laisvų rankų įranga</td>\n",
       "    </tr>\n",
       "    <tr>\n",
       "      <th>2</th>\n",
       "      <td>training_data/388503a8-5452-47ce-80f8-50bc311b...</td>\n",
       "      <td>3_Laisvų rankų įranga</td>\n",
       "    </tr>\n",
       "    <tr>\n",
       "      <th>3</th>\n",
       "      <td>training_data/0526ea1f-c62d-4c81-a106-d44dd4df...</td>\n",
       "      <td>3_Laisvų rankų įranga</td>\n",
       "    </tr>\n",
       "    <tr>\n",
       "      <th>4</th>\n",
       "      <td>training_data/56aa6e74-8db5-46ff-af99-8c8c67e6...</td>\n",
       "      <td>3_Laisvų rankų įranga</td>\n",
       "    </tr>\n",
       "    <tr>\n",
       "      <th>...</th>\n",
       "      <td>...</td>\n",
       "      <td>...</td>\n",
       "    </tr>\n",
       "    <tr>\n",
       "      <th>324694</th>\n",
       "      <td>training_data/adbdc39e-7a1b-494a-9669-ef405ac3...</td>\n",
       "      <td>12_Ekrano plėvelės</td>\n",
       "    </tr>\n",
       "    <tr>\n",
       "      <th>324695</th>\n",
       "      <td>training_data/fc2d4c5b-31d2-4452-b564-472e40bd...</td>\n",
       "      <td>4_Dėklai telefonams</td>\n",
       "    </tr>\n",
       "    <tr>\n",
       "      <th>324696</th>\n",
       "      <td>training_data/ef574785-1d1b-4584-9156-f94ea8d9...</td>\n",
       "      <td>4_Dėklai telefonams</td>\n",
       "    </tr>\n",
       "    <tr>\n",
       "      <th>324697</th>\n",
       "      <td>training_data/a270c431-44dc-48d5-a1b7-e40fff2d...</td>\n",
       "      <td>4_Dėklai telefonams</td>\n",
       "    </tr>\n",
       "    <tr>\n",
       "      <th>324698</th>\n",
       "      <td>training_data/ee8a759f-8868-40b9-baca-5eac015b...</td>\n",
       "      <td>18_Nešiojami kompiuteriai</td>\n",
       "    </tr>\n",
       "  </tbody>\n",
       "</table>\n",
       "<p>323953 rows × 2 columns</p>\n",
       "</div>"
      ]
     },
     "execution_count": 12,
     "metadata": {},
     "output_type": "execute_result"
    }
   ],
   "execution_count": 12
  },
  {
   "metadata": {},
   "cell_type": "markdown",
   "source": "# Limit image per category",
   "id": "13b088161b9807ce"
  },
  {
   "metadata": {
    "ExecuteTime": {
     "end_time": "2025-03-03T19:26:15.438289Z",
     "start_time": "2025-03-03T19:26:15.394333Z"
    }
   },
   "cell_type": "code",
   "source": "limited_data = filtered_data.groupby('category').head(LIMIT_COUNT)",
   "id": "93a36bc78c1d5e8c",
   "outputs": [],
   "execution_count": 13
  },
  {
   "metadata": {
    "ExecuteTime": {
     "end_time": "2025-03-03T19:26:16.887578Z",
     "start_time": "2025-03-03T19:26:16.881998Z"
    }
   },
   "cell_type": "code",
   "source": "limited_data",
   "id": "755411018665f044",
   "outputs": [
    {
     "data": {
      "text/plain": [
       "                                               image_path  \\\n",
       "0       training_data/f9188f66-3701-4ae7-a69e-25050f9c...   \n",
       "1       training_data/b3187f7a-ef16-4c45-9738-6d6345f8...   \n",
       "2       training_data/388503a8-5452-47ce-80f8-50bc311b...   \n",
       "3       training_data/0526ea1f-c62d-4c81-a106-d44dd4df...   \n",
       "4       training_data/56aa6e74-8db5-46ff-af99-8c8c67e6...   \n",
       "...                                                   ...   \n",
       "324694  training_data/adbdc39e-7a1b-494a-9669-ef405ac3...   \n",
       "324695  training_data/fc2d4c5b-31d2-4452-b564-472e40bd...   \n",
       "324696  training_data/ef574785-1d1b-4584-9156-f94ea8d9...   \n",
       "324697  training_data/a270c431-44dc-48d5-a1b7-e40fff2d...   \n",
       "324698  training_data/ee8a759f-8868-40b9-baca-5eac015b...   \n",
       "\n",
       "                         category  \n",
       "0           3_Laisvų rankų įranga  \n",
       "1           3_Laisvų rankų įranga  \n",
       "2           3_Laisvų rankų įranga  \n",
       "3           3_Laisvų rankų įranga  \n",
       "4           3_Laisvų rankų įranga  \n",
       "...                           ...  \n",
       "324694         12_Ekrano plėvelės  \n",
       "324695        4_Dėklai telefonams  \n",
       "324696        4_Dėklai telefonams  \n",
       "324697        4_Dėklai telefonams  \n",
       "324698  18_Nešiojami kompiuteriai  \n",
       "\n",
       "[323953 rows x 2 columns]"
      ],
      "text/html": [
       "<div>\n",
       "<style scoped>\n",
       "    .dataframe tbody tr th:only-of-type {\n",
       "        vertical-align: middle;\n",
       "    }\n",
       "\n",
       "    .dataframe tbody tr th {\n",
       "        vertical-align: top;\n",
       "    }\n",
       "\n",
       "    .dataframe thead th {\n",
       "        text-align: right;\n",
       "    }\n",
       "</style>\n",
       "<table border=\"1\" class=\"dataframe\">\n",
       "  <thead>\n",
       "    <tr style=\"text-align: right;\">\n",
       "      <th></th>\n",
       "      <th>image_path</th>\n",
       "      <th>category</th>\n",
       "    </tr>\n",
       "  </thead>\n",
       "  <tbody>\n",
       "    <tr>\n",
       "      <th>0</th>\n",
       "      <td>training_data/f9188f66-3701-4ae7-a69e-25050f9c...</td>\n",
       "      <td>3_Laisvų rankų įranga</td>\n",
       "    </tr>\n",
       "    <tr>\n",
       "      <th>1</th>\n",
       "      <td>training_data/b3187f7a-ef16-4c45-9738-6d6345f8...</td>\n",
       "      <td>3_Laisvų rankų įranga</td>\n",
       "    </tr>\n",
       "    <tr>\n",
       "      <th>2</th>\n",
       "      <td>training_data/388503a8-5452-47ce-80f8-50bc311b...</td>\n",
       "      <td>3_Laisvų rankų įranga</td>\n",
       "    </tr>\n",
       "    <tr>\n",
       "      <th>3</th>\n",
       "      <td>training_data/0526ea1f-c62d-4c81-a106-d44dd4df...</td>\n",
       "      <td>3_Laisvų rankų įranga</td>\n",
       "    </tr>\n",
       "    <tr>\n",
       "      <th>4</th>\n",
       "      <td>training_data/56aa6e74-8db5-46ff-af99-8c8c67e6...</td>\n",
       "      <td>3_Laisvų rankų įranga</td>\n",
       "    </tr>\n",
       "    <tr>\n",
       "      <th>...</th>\n",
       "      <td>...</td>\n",
       "      <td>...</td>\n",
       "    </tr>\n",
       "    <tr>\n",
       "      <th>324694</th>\n",
       "      <td>training_data/adbdc39e-7a1b-494a-9669-ef405ac3...</td>\n",
       "      <td>12_Ekrano plėvelės</td>\n",
       "    </tr>\n",
       "    <tr>\n",
       "      <th>324695</th>\n",
       "      <td>training_data/fc2d4c5b-31d2-4452-b564-472e40bd...</td>\n",
       "      <td>4_Dėklai telefonams</td>\n",
       "    </tr>\n",
       "    <tr>\n",
       "      <th>324696</th>\n",
       "      <td>training_data/ef574785-1d1b-4584-9156-f94ea8d9...</td>\n",
       "      <td>4_Dėklai telefonams</td>\n",
       "    </tr>\n",
       "    <tr>\n",
       "      <th>324697</th>\n",
       "      <td>training_data/a270c431-44dc-48d5-a1b7-e40fff2d...</td>\n",
       "      <td>4_Dėklai telefonams</td>\n",
       "    </tr>\n",
       "    <tr>\n",
       "      <th>324698</th>\n",
       "      <td>training_data/ee8a759f-8868-40b9-baca-5eac015b...</td>\n",
       "      <td>18_Nešiojami kompiuteriai</td>\n",
       "    </tr>\n",
       "  </tbody>\n",
       "</table>\n",
       "<p>323953 rows × 2 columns</p>\n",
       "</div>"
      ]
     },
     "execution_count": 14,
     "metadata": {},
     "output_type": "execute_result"
    }
   ],
   "execution_count": 14
  },
  {
   "metadata": {},
   "cell_type": "markdown",
   "source": "# Upload images from parquet to disk",
   "id": "d122b41d6a1be1b8"
  },
  {
   "metadata": {
    "ExecuteTime": {
     "end_time": "2025-03-03T19:44:07.856396Z",
     "start_time": "2025-03-03T19:44:07.854035Z"
    }
   },
   "cell_type": "code",
   "source": [
    "import requests\n",
    "from tqdm import tqdm  # For visualizing progress\n",
    "from PIL import Image, ImageFile\n",
    "from PIL.Image import DecompressionBombError\n",
    "from io import BytesIO\n",
    "\n",
    "ImageFile.LOAD_TRUNCATED_IMAGES = True"
   ],
   "id": "d5db61e97c3631f0",
   "outputs": [],
   "execution_count": 21
  },
  {
   "metadata": {
    "ExecuteTime": {
     "end_time": "2025-03-03T19:44:09.740331Z",
     "start_time": "2025-03-03T19:44:09.738112Z"
    }
   },
   "cell_type": "code",
   "source": "host_url = os.getenv(\"S3_URL\")",
   "id": "bac1c2bb29a2357a",
   "outputs": [],
   "execution_count": 22
  },
  {
   "metadata": {
    "jupyter": {
     "is_executing": true
    },
    "ExecuteTime": {
     "start_time": "2025-03-03T19:44:13.648965Z"
    }
   },
   "cell_type": "code",
   "source": [
    "output_folder = \"../image/downloaded_images\"\n",
    "if not os.path.exists(output_folder):\n",
    "    os.makedirs(output_folder)\n",
    "\n",
    "for index, row in tqdm(limited_data.iterrows(), total=limited_data.shape[0]):\n",
    "    image_url = host_url + row['image_path']\n",
    "    category = row['category'] # Use category for organization\n",
    "\n",
    "    category_folder = os.path.join(output_folder, category)\n",
    "    if not os.path.exists(category_folder):\n",
    "        os.makedirs(category_folder)\n",
    "\n",
    "    image_filename = f\"{index}.jpg\"  # Save as index or any unique naming scheme\n",
    "    image_path = os.path.join(category_folder, image_filename)\n",
    "\n",
    "    try:\n",
    "        response = requests.get(image_url, timeout=10)\n",
    "        if response.status_code == 200:\n",
    "            image = Image.open(BytesIO(response.content))\n",
    "            original_width, original_height = image.size\n",
    "\n",
    "            if original_width > MAX_IMAGE_WIDTH:\n",
    "                aspect_ratio = original_height / original_width\n",
    "                new_height = int(MAX_IMAGE_WIDTH * aspect_ratio)\n",
    "\n",
    "                resized_image = image.resize((MAX_IMAGE_WIDTH, new_height))\n",
    "            else:\n",
    "                resized_image = image\n",
    "\n",
    "            if resized_image.mode == 'RGBA':\n",
    "                resized_image = resized_image.convert('RGB')\n",
    "\n",
    "            resized_image.save(image_path, format=\"JPEG\")\n",
    "        else:\n",
    "            print(f\"Failed to download {image_url}, from category {category}: Status code {response.status_code}\")\n",
    "    except requests.RequestException as e:\n",
    "        print(f\"Error downloading {image_url} from category {category}: {e}\")\n",
    "    except DecompressionBombError as e:\n",
    "        print(f\"Decompress bomb error while processing the image {image_url} from category {category}: {e}\")\n",
    "    except OSError as e:\n",
    "        print(f\"Error while processing the image {image_url} from category {category}: {e}\")"
   ],
   "id": "72cbf1f52300ae92",
   "outputs": [
    {
     "name": "stderr",
     "output_type": "stream",
     "text": [
      "  0%|          | 17/323953 [00:04<19:47:25,  4.55it/s]"
     ]
    },
    {
     "name": "stdout",
     "output_type": "stream",
     "text": [
      "Failed to download https://kainoteka-public.s3.eu-central-1.amazonaws.com/training_data/2882947f-83cf-4eed-aa40-c47d34ece61d, from category 3_Laisvų rankų įranga: Status code 403\n"
     ]
    },
    {
     "name": "stderr",
     "output_type": "stream",
     "text": [
      "  0%|          | 26/323953 [00:06<18:40:13,  4.82it/s]"
     ]
    },
    {
     "name": "stdout",
     "output_type": "stream",
     "text": [
      "Failed to download https://kainoteka-public.s3.eu-central-1.amazonaws.com/training_data/ccfc5b4e-81c0-43f6-9ed4-904cbb687962, from category 3_Laisvų rankų įranga: Status code 403\n"
     ]
    },
    {
     "name": "stderr",
     "output_type": "stream",
     "text": [
      "  0%|          | 29/323953 [00:06<17:12:50,  5.23it/s]"
     ]
    },
    {
     "name": "stdout",
     "output_type": "stream",
     "text": [
      "Failed to download https://kainoteka-public.s3.eu-central-1.amazonaws.com/training_data/d1feb352-4103-4d8b-8db7-5ee01da31f15, from category 3_Laisvų rankų įranga: Status code 403\n"
     ]
    },
    {
     "name": "stderr",
     "output_type": "stream",
     "text": [
      "  0%|          | 33/323953 [00:07<18:03:27,  4.98it/s]"
     ]
    },
    {
     "name": "stdout",
     "output_type": "stream",
     "text": [
      "Failed to download https://kainoteka-public.s3.eu-central-1.amazonaws.com/training_data/364da44e-53f6-4351-bcbb-22352f67473b, from category 3_Laisvų rankų įranga: Status code 403\n"
     ]
    },
    {
     "name": "stderr",
     "output_type": "stream",
     "text": [
      "  0%|          | 36/323953 [00:08<16:37:56,  5.41it/s]"
     ]
    },
    {
     "name": "stdout",
     "output_type": "stream",
     "text": [
      "Failed to download https://kainoteka-public.s3.eu-central-1.amazonaws.com/training_data/d2c646ba-9852-46c1-9304-f26cf37fd5d1, from category 3_Laisvų rankų įranga: Status code 403\n",
      "Failed to download https://kainoteka-public.s3.eu-central-1.amazonaws.com/training_data/57802bae-d5d9-46c0-a36a-933a810dd650, from category 3_Laisvų rankų įranga: Status code 403\n"
     ]
    },
    {
     "name": "stderr",
     "output_type": "stream",
     "text": [
      "  0%|          | 39/323953 [00:09<18:16:04,  4.93it/s]"
     ]
    },
    {
     "name": "stdout",
     "output_type": "stream",
     "text": [
      "Failed to download https://kainoteka-public.s3.eu-central-1.amazonaws.com/training_data/d218f9d5-e6d7-4983-9193-4680b1c3e6f8, from category 3_Laisvų rankų įranga: Status code 403\n"
     ]
    },
    {
     "name": "stderr",
     "output_type": "stream",
     "text": [
      "  0%|          | 59/323953 [00:13<17:42:29,  5.08it/s]"
     ]
    },
    {
     "name": "stdout",
     "output_type": "stream",
     "text": [
      "Failed to download https://kainoteka-public.s3.eu-central-1.amazonaws.com/training_data/c96a944a-2d5c-4d03-a9f9-9b236330f59e, from category 3_Laisvų rankų įranga: Status code 403\n",
      "Failed to download https://kainoteka-public.s3.eu-central-1.amazonaws.com/training_data/81c688ea-70eb-494d-babf-8c3552fb8ee4, from category 3_Laisvų rankų įranga: Status code 403\n"
     ]
    },
    {
     "name": "stderr",
     "output_type": "stream",
     "text": [
      "  0%|          | 61/323953 [00:13<19:04:31,  4.72it/s]"
     ]
    }
   ],
   "execution_count": null
  },
  {
   "metadata": {},
   "cell_type": "markdown",
   "source": "# Create dataset on Hugging face",
   "id": "d3910b5b6dfc1993"
  },
  {
   "metadata": {
    "ExecuteTime": {
     "end_time": "2025-02-28T14:13:17.826766Z",
     "start_time": "2025-02-28T14:13:17.583750Z"
    }
   },
   "cell_type": "code",
   "source": "from datasets import load_dataset",
   "id": "1fc90cbf28f10bb7",
   "outputs": [
    {
     "name": "stderr",
     "output_type": "stream",
     "text": [
      "/Users/zilvinasmacius/PycharmProjects/category-prediction-ml/.venv/lib/python3.9/site-packages/tqdm/auto.py:21: TqdmWarning: IProgress not found. Please update jupyter and ipywidgets. See https://ipywidgets.readthedocs.io/en/stable/user_install.html\n",
      "  from .autonotebook import tqdm as notebook_tqdm\n"
     ]
    }
   ],
   "execution_count": 26
  },
  {
   "metadata": {
    "ExecuteTime": {
     "end_time": "2025-02-28T14:13:25.055808Z",
     "start_time": "2025-02-28T14:13:21.084243Z"
    }
   },
   "cell_type": "code",
   "source": "dataset = load_dataset(\"imagefolder\", data_dir=output_folder)",
   "id": "da79a6422eb75878",
   "outputs": [
    {
     "name": "stderr",
     "output_type": "stream",
     "text": [
      "Downloading data: 100%|██████████| 6693/6693 [00:00<00:00, 1445916.90files/s]\n",
      "Generating train split: 6693 examples [00:00, 33574.58 examples/s]\n"
     ]
    }
   ],
   "execution_count": 27
  },
  {
   "metadata": {
    "ExecuteTime": {
     "end_time": "2025-02-28T14:13:28.896460Z",
     "start_time": "2025-02-28T14:13:28.892478Z"
    }
   },
   "cell_type": "code",
   "source": "dataset",
   "id": "dc2a81dbcd8e02d9",
   "outputs": [
    {
     "data": {
      "text/plain": [
       "DatasetDict({\n",
       "    train: Dataset({\n",
       "        features: ['image', 'label'],\n",
       "        num_rows: 6693\n",
       "    })\n",
       "})"
      ]
     },
     "execution_count": 28,
     "metadata": {},
     "output_type": "execute_result"
    }
   ],
   "execution_count": 28
  },
  {
   "metadata": {
    "ExecuteTime": {
     "end_time": "2025-02-28T14:14:05.064964Z",
     "start_time": "2025-02-28T14:13:31.202999Z"
    }
   },
   "cell_type": "code",
   "source": "dataset.push_to_hub(HUGGING_FACE_DATASET_NAME)",
   "id": "66267f533b644fd7",
   "outputs": [
    {
     "name": "stderr",
     "output_type": "stream",
     "text": [
      "Uploading the dataset shards:   0%|          | 0/2 [00:00<?, ?it/s]\n",
      "Map:   0%|          | 0/3347 [00:00<?, ? examples/s]\u001B[A\n",
      "Map:  21%|██        | 700/3347 [00:00<00:00, 5432.46 examples/s]\u001B[A\n",
      "Map:  42%|████▏     | 1400/3347 [00:00<00:00, 5608.23 examples/s]\u001B[A\n",
      "Map:  63%|██████▎   | 2100/3347 [00:00<00:00, 5602.44 examples/s]\u001B[A\n",
      "Map: 100%|██████████| 3347/3347 [00:00<00:00, 5382.52 examples/s]\u001B[A\n",
      "\n",
      "Creating parquet from Arrow format: 100%|██████████| 34/34 [00:00<00:00, 352.13ba/s]\n",
      "Uploading the dataset shards:  50%|█████     | 1/2 [00:17<00:17, 17.79s/it]\n",
      "Map:   0%|          | 0/3346 [00:00<?, ? examples/s]\u001B[A\n",
      "Map:  18%|█▊        | 600/3346 [00:00<00:00, 4307.23 examples/s]\u001B[A\n",
      "Map:  36%|███▌      | 1200/3346 [00:00<00:00, 4803.15 examples/s]\u001B[A\n",
      "Map:  57%|█████▋    | 1900/3346 [00:00<00:00, 5321.10 examples/s]\u001B[A\n",
      "Map:  75%|███████▍  | 2500/3346 [00:00<00:00, 5387.14 examples/s]\u001B[A\n",
      "Map: 100%|██████████| 3346/3346 [00:00<00:00, 5067.67 examples/s]\u001B[A\n",
      "\n",
      "Creating parquet from Arrow format:   0%|          | 0/34 [00:00<?, ?ba/s]\u001B[A\n",
      "Creating parquet from Arrow format: 100%|██████████| 34/34 [00:00<00:00, 327.23ba/s]\u001B[A\n",
      "Uploading the dataset shards: 100%|██████████| 2/2 [00:31<00:00, 15.91s/it]\n"
     ]
    },
    {
     "data": {
      "text/plain": [
       "CommitInfo(commit_url='https://huggingface.co/datasets/Vampyrian/buitine_technika/commit/4913a0dc3e4611bb77dbd9c2824edaeef4f4e127', commit_message='Upload dataset', commit_description='', oid='4913a0dc3e4611bb77dbd9c2824edaeef4f4e127', pr_url=None, repo_url=RepoUrl('https://huggingface.co/datasets/Vampyrian/buitine_technika', endpoint='https://huggingface.co', repo_type='dataset', repo_id='Vampyrian/buitine_technika'), pr_revision=None, pr_num=None)"
      ]
     },
     "execution_count": 29,
     "metadata": {},
     "output_type": "execute_result"
    }
   ],
   "execution_count": 29
  }
 ],
 "metadata": {
  "kernelspec": {
   "display_name": "Python 3",
   "language": "python",
   "name": "python3"
  },
  "language_info": {
   "codemirror_mode": {
    "name": "ipython",
    "version": 2
   },
   "file_extension": ".py",
   "mimetype": "text/x-python",
   "name": "python",
   "nbconvert_exporter": "python",
   "pygments_lexer": "ipython2",
   "version": "2.7.6"
  }
 },
 "nbformat": 4,
 "nbformat_minor": 5
}
