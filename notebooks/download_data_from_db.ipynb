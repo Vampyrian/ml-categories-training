{
 "cells": [
  {
   "cell_type": "code",
   "id": "initial_id",
   "metadata": {
    "collapsed": true,
    "ExecuteTime": {
     "end_time": "2024-12-23T05:56:11.957908Z",
     "start_time": "2024-12-23T05:56:11.715849Z"
    }
   },
   "source": [
    "import mysql.connector\n",
    "import dotenv\n",
    "import os\n",
    "import pandas as pd"
   ],
   "outputs": [],
   "execution_count": 1
  },
  {
   "metadata": {
    "ExecuteTime": {
     "end_time": "2024-12-23T05:56:15.329946Z",
     "start_time": "2024-12-23T05:56:15.325709Z"
    }
   },
   "cell_type": "code",
   "source": "dotenv.load_dotenv(dotenv_path=\"../.env\", override=True)",
   "id": "177d6fb799f9fc87",
   "outputs": [
    {
     "data": {
      "text/plain": [
       "True"
      ]
     },
     "execution_count": 2,
     "metadata": {},
     "output_type": "execute_result"
    }
   ],
   "execution_count": 2
  },
  {
   "metadata": {
    "ExecuteTime": {
     "end_time": "2024-12-23T05:56:18.014922Z",
     "start_time": "2024-12-23T05:56:17.454645Z"
    }
   },
   "cell_type": "code",
   "source": [
    "try:\n",
    "    conn = mysql.connector.connect(\n",
    "        host=os.getenv(\"MYSQL_HOST\"),\n",
    "        user=os.getenv(\"MYSQL_USER\"),\n",
    "        password=os.getenv(\"MYSQL_PASSWORD\"),\n",
    "        port=os.getenv(\"MYSQL_PORT\"),\n",
    "        database=os.getenv(\"MYSQL_DATABASE\")\n",
    "    )\n",
    "    print(\"Database connection successful!\")\n",
    "except mysql.connector.Error as e:\n",
    "    print(e)"
   ],
   "id": "8788b111b232da76",
   "outputs": [
    {
     "name": "stdout",
     "output_type": "stream",
     "text": [
      "Database connection successful!\n"
     ]
    }
   ],
   "execution_count": 3
  },
  {
   "metadata": {
    "ExecuteTime": {
     "end_time": "2024-12-23T06:00:06.665980Z",
     "start_time": "2024-12-23T05:56:30.882645Z"
    }
   },
   "cell_type": "code",
   "source": [
    "sql = \"\"\"\n",
    "SELECT listings.name, listings.price, categories.id AS category_id, categories.name AS category_name\n",
    "FROM category_training_data\n",
    "JOIN listings ON category_training_data.listing_id = listings.id\n",
    "JOIN categories ON category_training_data.category_id = categories.id\n",
    "\"\"\"\n",
    "\n",
    "data = pd.read_sql(sql, conn)"
   ],
   "id": "8a2bd1aaf27e8685",
   "outputs": [
    {
     "name": "stderr",
     "output_type": "stream",
     "text": [
      "/var/folders/dm/0bzvhx614119pjld6qkrbr6r0000gn/T/ipykernel_3784/1540559974.py:8: UserWarning: pandas only supports SQLAlchemy connectable (engine/connection) or database string URI or sqlite3 DBAPI2 connection. Other DBAPI2 objects are not tested. Please consider using SQLAlchemy.\n",
      "  data = pd.read_sql(sql, conn)\n"
     ]
    }
   ],
   "execution_count": 4
  },
  {
   "metadata": {
    "ExecuteTime": {
     "end_time": "2024-12-23T06:00:22.919876Z",
     "start_time": "2024-12-23T06:00:22.916649Z"
    }
   },
   "cell_type": "code",
   "source": [
    "data_folder = \"../data\"\n",
    "if not os.path.exists(data_folder):\n",
    "    os.makedirs(data_folder)\n",
    "\n",
    "path = os.path.join(data_folder, \"all_data.parquet\")"
   ],
   "id": "d38e1b929da0617c",
   "outputs": [],
   "execution_count": 5
  },
  {
   "metadata": {
    "ExecuteTime": {
     "end_time": "2024-12-23T06:00:54.666348Z",
     "start_time": "2024-12-23T06:00:54.548018Z"
    }
   },
   "cell_type": "code",
   "source": "data.to_parquet(path, index=False)",
   "id": "c9e9c5f1ef9e1d82",
   "outputs": [],
   "execution_count": 6
  }
 ],
 "metadata": {
  "kernelspec": {
   "display_name": "Python 3",
   "language": "python",
   "name": "python3"
  },
  "language_info": {
   "codemirror_mode": {
    "name": "ipython",
    "version": 2
   },
   "file_extension": ".py",
   "mimetype": "text/x-python",
   "name": "python",
   "nbconvert_exporter": "python",
   "pygments_lexer": "ipython2",
   "version": "2.7.6"
  }
 },
 "nbformat": 4,
 "nbformat_minor": 5
}
