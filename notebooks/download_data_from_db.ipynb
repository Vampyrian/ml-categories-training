{
 "cells": [
  {
   "cell_type": "code",
   "id": "initial_id",
   "metadata": {
    "collapsed": true
   },
   "source": [
    "import mysql.connector\n",
    "import dotenv\n",
    "import os\n",
    "import pandas as pd"
   ],
   "outputs": [],
   "execution_count": null
  },
  {
   "metadata": {},
   "cell_type": "code",
   "source": "dotenv.load_dotenv(dotenv_path=\"../.env\", override=True)",
   "id": "177d6fb799f9fc87",
   "outputs": [],
   "execution_count": null
  },
  {
   "metadata": {},
   "cell_type": "code",
   "source": [
    "conn = None\n",
    "try:\n",
    "    conn = mysql.connector.connect(\n",
    "        host=os.getenv(\"MYSQL_HOST\"),\n",
    "        user=os.getenv(\"MYSQL_USER\"),\n",
    "        password=os.getenv(\"MYSQL_PASSWORD\"),\n",
    "        port=os.getenv(\"MYSQL_PORT\"),\n",
    "        database=os.getenv(\"MYSQL_DATABASE\")\n",
    "    )\n",
    "    print(\"Database connection successful!\")\n",
    "except mysql.connector.Error as e:\n",
    "    print(e)"
   ],
   "id": "8788b111b232da76",
   "outputs": [],
   "execution_count": null
  },
  {
   "metadata": {},
   "cell_type": "code",
   "source": [
    "sql = \"\"\"\n",
    "SELECT listings.name, listings.price, categories.id AS category_id, categories.name AS category_name\n",
    "FROM category_training_data\n",
    "JOIN listings ON category_training_data.listing_id = listings.id\n",
    "JOIN categories ON category_training_data.category_id = categories.id\n",
    "WHERE category_training_data.is_confirmed_category = 1\n",
    "\"\"\"\n",
    "\n",
    "data = pd.read_sql(sql, conn)"
   ],
   "id": "8a2bd1aaf27e8685",
   "outputs": [],
   "execution_count": null
  },
  {
   "metadata": {},
   "cell_type": "code",
   "source": [
    "data_folder = \"../data\"\n",
    "if not os.path.exists(data_folder):\n",
    "    os.makedirs(data_folder)\n",
    "\n",
    "path = os.path.join(data_folder, \"all_data.parquet\")"
   ],
   "id": "d38e1b929da0617c",
   "outputs": [],
   "execution_count": null
  },
  {
   "metadata": {},
   "cell_type": "code",
   "source": "data.to_parquet(path, index=False)",
   "id": "c9e9c5f1ef9e1d82",
   "outputs": [],
   "execution_count": null
  }
 ],
 "metadata": {
  "kernelspec": {
   "display_name": "Python 3",
   "language": "python",
   "name": "python3"
  },
  "language_info": {
   "codemirror_mode": {
    "name": "ipython",
    "version": 2
   },
   "file_extension": ".py",
   "mimetype": "text/x-python",
   "name": "python",
   "nbconvert_exporter": "python",
   "pygments_lexer": "ipython2",
   "version": "2.7.6"
  }
 },
 "nbformat": 4,
 "nbformat_minor": 5
}
