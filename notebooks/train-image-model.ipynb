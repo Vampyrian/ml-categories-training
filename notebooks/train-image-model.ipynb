{
 "cells": [
  {
   "metadata": {},
   "cell_type": "markdown",
   "source": "# Settings",
   "id": "88f5fd546d3df899"
  },
  {
   "metadata": {
    "ExecuteTime": {
     "end_time": "2025-03-05T19:41:49.446844Z",
     "start_time": "2025-03-05T19:41:49.444353Z"
    }
   },
   "cell_type": "code",
   "source": [
    "# DATASET_NAME = \"Vampyrian/buitine-technika-ir-elektronika\"\n",
    "# OUTPUT_MODEL_NAME = \"Vampyrian/buitine-technika-ir-elektronika\"\n",
    "\n",
    "DATASET_NAME = \"Vampyrian/all-image-dataset\"\n",
    "OUTPUT_MODEL_NAME = \"Vampyrian/all-image\"\n",
    "\n",
    "CHECKPOINT = 'google/vit-base-patch16-224-in21k'"
   ],
   "id": "1b38cdd2f8c11db0",
   "outputs": [],
   "execution_count": 28
  },
  {
   "metadata": {},
   "cell_type": "markdown",
   "source": "# Login to huggin face",
   "id": "3b7f96cb781848c9"
  },
  {
   "metadata": {
    "ExecuteTime": {
     "end_time": "2025-03-05T19:36:52.279857Z",
     "start_time": "2025-03-05T19:36:52.273262Z"
    }
   },
   "cell_type": "code",
   "source": [
    "from dotenv import load_dotenv\n",
    "import os\n",
    "\n",
    "load_dotenv()\n",
    "\n",
    "hf_token = os.getenv('HF_TOKEN')"
   ],
   "id": "3ba5d93a6acc46ff",
   "outputs": [],
   "execution_count": 2
  },
  {
   "metadata": {
    "ExecuteTime": {
     "end_time": "2025-03-05T19:37:08.763945Z",
     "start_time": "2025-03-05T19:37:08.606507Z"
    }
   },
   "cell_type": "code",
   "source": [
    "from huggingface_hub import login\n",
    "login(token=hf_token)"
   ],
   "id": "63a4b7a95c2f5424",
   "outputs": [
    {
     "name": "stderr",
     "output_type": "stream",
     "text": [
      "Note: Environment variable`HF_TOKEN` is set and is the current active token independently from the token you've just configured.\n"
     ]
    }
   ],
   "execution_count": 5
  },
  {
   "metadata": {},
   "cell_type": "markdown",
   "source": "# Loading dataset",
   "id": "87695b2dbc013a3b"
  },
  {
   "metadata": {
    "ExecuteTime": {
     "end_time": "2025-03-05T19:37:19.764536Z",
     "start_time": "2025-03-05T19:37:11.602257Z"
    }
   },
   "cell_type": "code",
   "source": [
    "from datasets import load_dataset\n",
    "dataset = load_dataset(DATASET_NAME)"
   ],
   "id": "79eb5b9f9bca88a6",
   "outputs": [
    {
     "name": "stderr",
     "output_type": "stream",
     "text": [
      "Generating train split: 100%|██████████| 11982/11982 [00:00<00:00, 161569.88 examples/s]\n"
     ]
    }
   ],
   "execution_count": 6
  },
  {
   "metadata": {
    "ExecuteTime": {
     "end_time": "2025-03-05T19:37:24.159397Z",
     "start_time": "2025-03-05T19:37:24.154611Z"
    }
   },
   "cell_type": "code",
   "source": "dataset",
   "id": "726d747ba0a0aba2",
   "outputs": [
    {
     "data": {
      "text/plain": [
       "DatasetDict({\n",
       "    train: Dataset({\n",
       "        features: ['image', 'label'],\n",
       "        num_rows: 11982\n",
       "    })\n",
       "})"
      ]
     },
     "execution_count": 7,
     "metadata": {},
     "output_type": "execute_result"
    }
   ],
   "execution_count": 7
  },
  {
   "metadata": {},
   "cell_type": "markdown",
   "source": "# Check if all image is correct",
   "id": "c4c43406c1514f29"
  },
  {
   "metadata": {
    "ExecuteTime": {
     "end_time": "2025-03-05T19:38:22.487623Z",
     "start_time": "2025-03-05T19:38:22.469683Z"
    }
   },
   "cell_type": "code",
   "source": "from PIL import Image, ImageFile, UnidentifiedImageError",
   "id": "e4aa25b09bbe46d",
   "outputs": [],
   "execution_count": 8
  },
  {
   "metadata": {
    "ExecuteTime": {
     "end_time": "2025-03-05T19:38:31.503678Z",
     "start_time": "2025-03-05T19:38:31.501014Z"
    }
   },
   "cell_type": "code",
   "source": [
    "ImageFile.LOAD_TRUNCATED_IMAGES = True\n",
    "\n",
    "def is_valid_image(example):\n",
    "    try:\n",
    "        # Check if the input is already an image object\n",
    "        if isinstance(example[\"image\"], Image.Image):\n",
    "            img = example[\"image\"]  # It's already an image object\n",
    "        else:\n",
    "            # Otherwise, open the image from the path\n",
    "            with Image.open(example[\"image\"]) as img:\n",
    "                img.verify()  # Verify it is a valid image\n",
    "\n",
    "        return True  # If all goes well, return True (valid image)\n",
    "    except Exception as e:\n",
    "        # Catch exceptions such as invalid image formats\n",
    "        return False"
   ],
   "id": "70c2bfa07d7a264e",
   "outputs": [],
   "execution_count": 9
  },
  {
   "metadata": {
    "ExecuteTime": {
     "end_time": "2025-03-05T19:38:34.070359Z",
     "start_time": "2025-03-05T19:38:34.067498Z"
    }
   },
   "cell_type": "code",
   "source": "len(dataset[\"train\"])",
   "id": "b0df0f561ba3f184",
   "outputs": [
    {
     "data": {
      "text/plain": [
       "11982"
      ]
     },
     "execution_count": 10,
     "metadata": {},
     "output_type": "execute_result"
    }
   ],
   "execution_count": 10
  },
  {
   "metadata": {
    "ExecuteTime": {
     "end_time": "2025-03-05T19:38:43.078185Z",
     "start_time": "2025-03-05T19:38:40.547218Z"
    }
   },
   "cell_type": "code",
   "source": "dataset[\"train\"] = dataset[\"train\"].filter(lambda row : is_valid_image(row))",
   "id": "6b2a069ca44a2ee2",
   "outputs": [
    {
     "name": "stderr",
     "output_type": "stream",
     "text": [
      "Filter: 100%|██████████| 11982/11982 [00:02<00:00, 4744.02 examples/s]\n"
     ]
    }
   ],
   "execution_count": 11
  },
  {
   "metadata": {
    "ExecuteTime": {
     "end_time": "2025-03-05T19:38:46.115185Z",
     "start_time": "2025-03-05T19:38:46.112442Z"
    }
   },
   "cell_type": "code",
   "source": "len(dataset[\"train\"])",
   "id": "a5d3f77aa06a1009",
   "outputs": [
    {
     "data": {
      "text/plain": [
       "11982"
      ]
     },
     "execution_count": 12,
     "metadata": {},
     "output_type": "execute_result"
    }
   ],
   "execution_count": 12
  },
  {
   "metadata": {
    "ExecuteTime": {
     "end_time": "2025-03-05T19:38:49.968311Z",
     "start_time": "2025-03-05T19:38:49.950932Z"
    }
   },
   "cell_type": "code",
   "source": "train_test_split = dataset[\"train\"].train_test_split(test_size=0.2)",
   "id": "260ae9f28cf7177f",
   "outputs": [],
   "execution_count": 13
  },
  {
   "metadata": {
    "ExecuteTime": {
     "end_time": "2025-03-05T19:38:53.176594Z",
     "start_time": "2025-03-05T19:38:53.174277Z"
    }
   },
   "cell_type": "code",
   "source": "train_test_split",
   "id": "abc4545bbbf71cdf",
   "outputs": [
    {
     "data": {
      "text/plain": [
       "DatasetDict({\n",
       "    train: Dataset({\n",
       "        features: ['image', 'label'],\n",
       "        num_rows: 9585\n",
       "    })\n",
       "    test: Dataset({\n",
       "        features: ['image', 'label'],\n",
       "        num_rows: 2397\n",
       "    })\n",
       "})"
      ]
     },
     "execution_count": 14,
     "metadata": {},
     "output_type": "execute_result"
    }
   ],
   "execution_count": 14
  },
  {
   "metadata": {
    "ExecuteTime": {
     "end_time": "2025-03-05T19:39:03.277711Z",
     "start_time": "2025-03-05T19:39:03.274072Z"
    }
   },
   "cell_type": "code",
   "source": "train_test_split[\"train\"][0]",
   "id": "5e4eab4af14c7d61",
   "outputs": [
    {
     "data": {
      "text/plain": [
       "{'image': <PIL.JpegImagePlugin.JpegImageFile image mode=RGB size=300x276>,\n",
       " 'label': 84}"
      ]
     },
     "execution_count": 15,
     "metadata": {},
     "output_type": "execute_result"
    }
   ],
   "execution_count": 15
  },
  {
   "metadata": {
    "ExecuteTime": {
     "end_time": "2025-03-05T19:39:12.028126Z",
     "start_time": "2025-03-05T19:39:12.025183Z"
    }
   },
   "cell_type": "code",
   "source": [
    "labels = train_test_split[\"train\"].features[\"label\"].names\n",
    "label2id, id2label = dict(), dict()\n",
    "for i, label in enumerate(labels):\n",
    "    label2id[label] = str(i)\n",
    "    id2label[str(i)] = label"
   ],
   "id": "7d1e3cc1547e32f0",
   "outputs": [],
   "execution_count": 16
  },
  {
   "metadata": {
    "ExecuteTime": {
     "end_time": "2025-03-05T19:39:13.571863Z",
     "start_time": "2025-03-05T19:39:13.568910Z"
    }
   },
   "cell_type": "code",
   "source": "id2label[str(2)]",
   "id": "e16c83c8d55c666f",
   "outputs": [
    {
     "data": {
      "text/plain": [
       "'1243_Džiovyklės'"
      ]
     },
     "execution_count": 17,
     "metadata": {},
     "output_type": "execute_result"
    }
   ],
   "execution_count": 17
  },
  {
   "metadata": {
    "ExecuteTime": {
     "end_time": "2025-03-05T19:40:20.047583Z",
     "start_time": "2025-03-05T19:40:13.196947Z"
    }
   },
   "cell_type": "code",
   "source": [
    "from transformers import AutoImageProcessor\n",
    "\n",
    "image_processor = AutoImageProcessor.from_pretrained(CHECKPOINT, use_fast=True)"
   ],
   "id": "20d7129c6eafa141",
   "outputs": [],
   "execution_count": 19
  },
  {
   "metadata": {
    "ExecuteTime": {
     "end_time": "2025-03-05T19:40:23.434425Z",
     "start_time": "2025-03-05T19:40:23.431458Z"
    }
   },
   "cell_type": "code",
   "source": [
    "from torchvision.transforms import RandomResizedCrop, Compose, Normalize, ToTensor\n",
    "normalize = Normalize(mean=image_processor.image_mean, std=image_processor.image_std)\n",
    "size = (\n",
    "    image_processor.size[\"shortest_edge\"]\n",
    "    if \"shortest_edge\" in image_processor.size\n",
    "    else (image_processor.size[\"height\"], image_processor.size[\"width\"])\n",
    ")\n",
    "_transforms = Compose([RandomResizedCrop(size), ToTensor(), normalize])"
   ],
   "id": "d51a9082819e64d2",
   "outputs": [],
   "execution_count": 20
  },
  {
   "metadata": {
    "ExecuteTime": {
     "end_time": "2025-03-05T19:40:28.980716Z",
     "start_time": "2025-03-05T19:40:28.977995Z"
    }
   },
   "cell_type": "code",
   "source": [
    "def transforms(examples):\n",
    "    examples[\"pixel_values\"] = [_transforms(img.convert(\"RGB\")) for img in examples[\"image\"]]\n",
    "    del examples[\"image\"]\n",
    "    return examples"
   ],
   "id": "bbad8c6bf87f2878",
   "outputs": [],
   "execution_count": 21
  },
  {
   "metadata": {
    "ExecuteTime": {
     "end_time": "2025-03-05T19:40:32.825149Z",
     "start_time": "2025-03-05T19:40:32.819725Z"
    }
   },
   "cell_type": "code",
   "source": "train_test_split = train_test_split.with_transform(transforms)",
   "id": "e140bbcf1c827b76",
   "outputs": [],
   "execution_count": 22
  },
  {
   "metadata": {
    "ExecuteTime": {
     "end_time": "2025-03-05T19:40:35.344298Z",
     "start_time": "2025-03-05T19:40:35.332750Z"
    }
   },
   "cell_type": "code",
   "source": [
    "from transformers import DefaultDataCollator\n",
    "\n",
    "data_collator = DefaultDataCollator()"
   ],
   "id": "a1522be5a3189766",
   "outputs": [],
   "execution_count": 23
  },
  {
   "metadata": {
    "ExecuteTime": {
     "end_time": "2025-03-05T19:40:39.965010Z",
     "start_time": "2025-03-05T19:40:39.035133Z"
    }
   },
   "cell_type": "code",
   "source": [
    "import evaluate\n",
    "accuracy = evaluate.load(\"accuracy\")"
   ],
   "id": "20fa2d45f6b494ea",
   "outputs": [],
   "execution_count": 24
  },
  {
   "metadata": {
    "ExecuteTime": {
     "end_time": "2025-03-05T19:40:43.739742Z",
     "start_time": "2025-03-05T19:40:43.737029Z"
    }
   },
   "cell_type": "code",
   "source": [
    "import numpy as np\n",
    "\n",
    "def compute_metrics(eval_pred):\n",
    "    predictions, labels = eval_pred\n",
    "    predictions = np.argmax(predictions, axis=1)\n",
    "    return accuracy.compute(predictions=predictions, references=labels)"
   ],
   "id": "c7bd53e26ceb38bf",
   "outputs": [],
   "execution_count": 25
  },
  {
   "metadata": {
    "ExecuteTime": {
     "end_time": "2025-03-05T19:40:49.451617Z",
     "start_time": "2025-03-05T19:40:49.082666Z"
    }
   },
   "cell_type": "code",
   "source": [
    "from transformers import AutoModelForImageClassification, TrainingArguments, Trainer\n",
    "\n",
    "model = AutoModelForImageClassification.from_pretrained(\n",
    "    CHECKPOINT,\n",
    "    num_labels=len(labels),\n",
    "    id2label=id2label,\n",
    "    label2id=label2id,\n",
    ")"
   ],
   "id": "9a29866ab818e36f",
   "outputs": [
    {
     "name": "stderr",
     "output_type": "stream",
     "text": [
      "Some weights of ViTForImageClassification were not initialized from the model checkpoint at google/vit-base-patch16-224-in21k and are newly initialized: ['classifier.bias', 'classifier.weight']\n",
      "You should probably TRAIN this model on a down-stream task to be able to use it for predictions and inference.\n"
     ]
    }
   ],
   "execution_count": 26
  },
  {
   "metadata": {
    "ExecuteTime": {
     "end_time": "2025-03-05T19:41:53.289903Z",
     "start_time": "2025-03-05T19:41:53.268982Z"
    }
   },
   "cell_type": "code",
   "source": [
    "training_args = TrainingArguments(\n",
    "    output_dir=OUTPUT_MODEL_NAME,\n",
    "    remove_unused_columns=False,\n",
    "    eval_strategy=\"epoch\",\n",
    "    save_strategy=\"epoch\",\n",
    "    learning_rate=5e-5,\n",
    "    per_device_train_batch_size=16,\n",
    "    gradient_accumulation_steps=4,\n",
    "    per_device_eval_batch_size=16,\n",
    "    num_train_epochs=10,\n",
    "    warmup_ratio=0.1,\n",
    "    logging_steps=10,\n",
    "    load_best_model_at_end=True,\n",
    "    metric_for_best_model=\"accuracy\",\n",
    "    push_to_hub=True,\n",
    ")"
   ],
   "id": "9ab43c67d4c61603",
   "outputs": [],
   "execution_count": 29
  },
  {
   "metadata": {
    "ExecuteTime": {
     "end_time": "2025-03-05T19:42:01.909851Z",
     "start_time": "2025-03-05T19:41:57.379615Z"
    }
   },
   "cell_type": "code",
   "source": [
    "trainer = Trainer(\n",
    "    model=model,\n",
    "    args=training_args,\n",
    "    data_collator=data_collator,\n",
    "    train_dataset=train_test_split[\"train\"],\n",
    "    eval_dataset=train_test_split[\"test\"],\n",
    "    processing_class=image_processor,\n",
    "    compute_metrics=compute_metrics,\n",
    ")"
   ],
   "id": "2472047c87f978dd",
   "outputs": [],
   "execution_count": 30
  },
  {
   "metadata": {
    "ExecuteTime": {
     "end_time": "2025-03-05T20:39:27.529638Z",
     "start_time": "2025-03-05T19:42:14.596795Z"
    }
   },
   "cell_type": "code",
   "source": "trainer.train()",
   "id": "3e63dd7f9ace6dce",
   "outputs": [
    {
     "data": {
      "text/plain": [
       "<IPython.core.display.HTML object>"
      ],
      "text/html": [
       "\n",
       "    <div>\n",
       "      \n",
       "      <progress value='1500' max='1500' style='width:300px; height:20px; vertical-align: middle;'></progress>\n",
       "      [1500/1500 57:08, Epoch 10/10]\n",
       "    </div>\n",
       "    <table border=\"1\" class=\"dataframe\">\n",
       "  <thead>\n",
       " <tr style=\"text-align: left;\">\n",
       "      <th>Epoch</th>\n",
       "      <th>Training Loss</th>\n",
       "      <th>Validation Loss</th>\n",
       "      <th>Accuracy</th>\n",
       "    </tr>\n",
       "  </thead>\n",
       "  <tbody>\n",
       "    <tr>\n",
       "      <td>1</td>\n",
       "      <td>3.839800</td>\n",
       "      <td>3.792165</td>\n",
       "      <td>0.449312</td>\n",
       "    </tr>\n",
       "    <tr>\n",
       "      <td>2</td>\n",
       "      <td>2.915800</td>\n",
       "      <td>2.834500</td>\n",
       "      <td>0.597413</td>\n",
       "    </tr>\n",
       "    <tr>\n",
       "      <td>3</td>\n",
       "      <td>2.185700</td>\n",
       "      <td>2.273845</td>\n",
       "      <td>0.664998</td>\n",
       "    </tr>\n",
       "    <tr>\n",
       "      <td>4</td>\n",
       "      <td>1.909900</td>\n",
       "      <td>1.930986</td>\n",
       "      <td>0.698790</td>\n",
       "    </tr>\n",
       "    <tr>\n",
       "      <td>5</td>\n",
       "      <td>1.656500</td>\n",
       "      <td>1.642796</td>\n",
       "      <td>0.739675</td>\n",
       "    </tr>\n",
       "    <tr>\n",
       "      <td>6</td>\n",
       "      <td>1.405900</td>\n",
       "      <td>1.469514</td>\n",
       "      <td>0.761368</td>\n",
       "    </tr>\n",
       "    <tr>\n",
       "      <td>7</td>\n",
       "      <td>1.230400</td>\n",
       "      <td>1.347682</td>\n",
       "      <td>0.778473</td>\n",
       "    </tr>\n",
       "    <tr>\n",
       "      <td>8</td>\n",
       "      <td>1.201800</td>\n",
       "      <td>1.282467</td>\n",
       "      <td>0.788486</td>\n",
       "    </tr>\n",
       "    <tr>\n",
       "      <td>9</td>\n",
       "      <td>1.126900</td>\n",
       "      <td>1.231840</td>\n",
       "      <td>0.794743</td>\n",
       "    </tr>\n",
       "    <tr>\n",
       "      <td>10</td>\n",
       "      <td>1.130200</td>\n",
       "      <td>1.225386</td>\n",
       "      <td>0.795995</td>\n",
       "    </tr>\n",
       "  </tbody>\n",
       "</table><p>"
      ]
     },
     "metadata": {},
     "output_type": "display_data"
    },
    {
     "data": {
      "text/plain": [
       "TrainOutput(global_step=1500, training_loss=1.9791525211334229, metrics={'train_runtime': 3430.5165, 'train_samples_per_second': 27.94, 'train_steps_per_second': 0.437, 'total_flos': 7.433332335842918e+18, 'train_loss': 1.9791525211334229, 'epoch': 10.0})"
      ]
     },
     "execution_count": 31,
     "metadata": {},
     "output_type": "execute_result"
    }
   ],
   "execution_count": 31
  },
  {
   "metadata": {},
   "cell_type": "markdown",
   "source": "# Test on my own image",
   "id": "9e8f3e37b8c04914"
  },
  {
   "metadata": {
    "ExecuteTime": {
     "end_time": "2025-03-06T16:07:35.834626Z",
     "start_time": "2025-03-06T16:07:18.149977Z"
    }
   },
   "cell_type": "code",
   "source": [
    "from transformers import pipeline\n",
    "\n",
    "classifier = pipeline(\"image-classification\", model=\"Vampyrian/buitine-technika-ir-elektronika\")"
   ],
   "id": "6d0d7b95a60de9df",
   "outputs": [
    {
     "name": "stderr",
     "output_type": "stream",
     "text": [
      "/Users/zilvinasmacius/PycharmProjects/category-prediction-ml/.venv/lib/python3.9/site-packages/urllib3/__init__.py:35: NotOpenSSLWarning: urllib3 v2 only supports OpenSSL 1.1.1+, currently the 'ssl' module is compiled with 'LibreSSL 2.8.3'. See: https://github.com/urllib3/urllib3/issues/3020\n",
      "  warnings.warn(\n",
      "/Users/zilvinasmacius/PycharmProjects/category-prediction-ml/.venv/lib/python3.9/site-packages/tqdm/auto.py:21: TqdmWarning: IProgress not found. Please update jupyter and ipywidgets. See https://ipywidgets.readthedocs.io/en/stable/user_install.html\n",
      "  from .autonotebook import tqdm as notebook_tqdm\n",
      "Device set to use mps:0\n"
     ]
    }
   ],
   "execution_count": 1
  },
  {
   "metadata": {
    "ExecuteTime": {
     "end_time": "2025-03-06T16:08:55.492771Z",
     "start_time": "2025-03-06T16:08:55.490564Z"
    }
   },
   "cell_type": "code",
   "source": [
    "from PIL import Image\n",
    "import requests\n",
    "from io import BytesIO"
   ],
   "id": "7f65b074b2cef21d",
   "outputs": [],
   "execution_count": 3
  },
  {
   "metadata": {
    "ExecuteTime": {
     "end_time": "2025-03-06T16:12:04.052388Z",
     "start_time": "2025-03-06T16:12:03.858759Z"
    }
   },
   "cell_type": "code",
   "source": [
    "image_url = \"https://kainoteka-public.s3.eu-central-1.amazonaws.com/products/65045a504fe52667404007/65046084d2f31537879365-sm.webp\"\n",
    "\n",
    "response = requests.get(image_url)\n",
    "response.raise_for_status()  # Ensure the request was successful\n",
    "\n",
    "# Open the image with PIL\n",
    "image = Image.open(BytesIO(response.content))\n"
   ],
   "id": "325e8686af049433",
   "outputs": [],
   "execution_count": 11
  },
  {
   "metadata": {
    "ExecuteTime": {
     "end_time": "2025-03-06T05:37:58.887094Z",
     "start_time": "2025-03-06T05:37:58.776916Z"
    }
   },
   "cell_type": "code",
   "source": [
    "image_path = \"indaplove.jpeg\"  # Replace with your image's path\n",
    "image = Image.open(image_path).convert(\"RGB\")"
   ],
   "id": "8096744a88148004",
   "outputs": [
    {
     "ename": "FileNotFoundError",
     "evalue": "[Errno 2] No such file or directory: '/Users/zilvinasmacius/PycharmProjects/ml-categories-training/notebooks/indaplove.jpeg'",
     "output_type": "error",
     "traceback": [
      "\u001B[0;31m---------------------------------------------------------------------------\u001B[0m",
      "\u001B[0;31mFileNotFoundError\u001B[0m                         Traceback (most recent call last)",
      "Cell \u001B[0;32mIn[36], line 2\u001B[0m\n\u001B[1;32m      1\u001B[0m image_path \u001B[38;5;241m=\u001B[39m \u001B[38;5;124m\"\u001B[39m\u001B[38;5;124mindaplove.jpeg\u001B[39m\u001B[38;5;124m\"\u001B[39m  \u001B[38;5;66;03m# Replace with your image's path\u001B[39;00m\n\u001B[0;32m----> 2\u001B[0m image \u001B[38;5;241m=\u001B[39m \u001B[43mImage\u001B[49m\u001B[38;5;241;43m.\u001B[39;49m\u001B[43mopen\u001B[49m\u001B[43m(\u001B[49m\u001B[43mimage_path\u001B[49m\u001B[43m)\u001B[49m\u001B[38;5;241m.\u001B[39mconvert(\u001B[38;5;124m\"\u001B[39m\u001B[38;5;124mRGB\u001B[39m\u001B[38;5;124m\"\u001B[39m)\n",
      "File \u001B[0;32m~/PycharmProjects/category-prediction-ml/.venv/lib/python3.9/site-packages/PIL/Image.py:3469\u001B[0m, in \u001B[0;36mopen\u001B[0;34m(fp, mode, formats)\u001B[0m\n\u001B[1;32m   3466\u001B[0m     filename \u001B[38;5;241m=\u001B[39m os\u001B[38;5;241m.\u001B[39mpath\u001B[38;5;241m.\u001B[39mrealpath(os\u001B[38;5;241m.\u001B[39mfspath(fp))\n\u001B[1;32m   3468\u001B[0m \u001B[38;5;28;01mif\u001B[39;00m filename:\n\u001B[0;32m-> 3469\u001B[0m     fp \u001B[38;5;241m=\u001B[39m \u001B[43mbuiltins\u001B[49m\u001B[38;5;241;43m.\u001B[39;49m\u001B[43mopen\u001B[49m\u001B[43m(\u001B[49m\u001B[43mfilename\u001B[49m\u001B[43m,\u001B[49m\u001B[43m \u001B[49m\u001B[38;5;124;43m\"\u001B[39;49m\u001B[38;5;124;43mrb\u001B[39;49m\u001B[38;5;124;43m\"\u001B[39;49m\u001B[43m)\u001B[49m\n\u001B[1;32m   3470\u001B[0m     exclusive_fp \u001B[38;5;241m=\u001B[39m \u001B[38;5;28;01mTrue\u001B[39;00m\n\u001B[1;32m   3471\u001B[0m \u001B[38;5;28;01melse\u001B[39;00m:\n",
      "\u001B[0;31mFileNotFoundError\u001B[0m: [Errno 2] No such file or directory: '/Users/zilvinasmacius/PycharmProjects/ml-categories-training/notebooks/indaplove.jpeg'"
     ]
    }
   ],
   "execution_count": 36
  },
  {
   "metadata": {
    "ExecuteTime": {
     "end_time": "2025-03-06T16:19:27.224864Z",
     "start_time": "2025-03-06T16:19:27.197975Z"
    }
   },
   "cell_type": "code",
   "source": "classifier(image)",
   "id": "d84625520b3d0e99",
   "outputs": [
    {
     "data": {
      "text/plain": [
       "[{'label': '1318_Langų valytuvai', 'score': 0.9484434723854065},\n",
       " {'label': '3690_Garais valantys prietaisai', 'score': 0.8926181793212891},\n",
       " {'label': '1320_Drabužių garintuvai', 'score': 0.8281411528587341},\n",
       " {'label': '1321_Dulkių siurblių antgaliai', 'score': 0.7781068682670593},\n",
       " {'label': '1300_Plaukų kirpimo mašinėlės', 'score': 0.7266762852668762}]"
      ]
     },
     "execution_count": 17,
     "metadata": {},
     "output_type": "execute_result"
    }
   ],
   "execution_count": 17
  }
 ],
 "metadata": {
  "kernelspec": {
   "display_name": "Python 3",
   "language": "python",
   "name": "python3"
  },
  "language_info": {
   "codemirror_mode": {
    "name": "ipython",
    "version": 2
   },
   "file_extension": ".py",
   "mimetype": "text/x-python",
   "name": "python",
   "nbconvert_exporter": "python",
   "pygments_lexer": "ipython2",
   "version": "2.7.6"
  }
 },
 "nbformat": 4,
 "nbformat_minor": 5
}
